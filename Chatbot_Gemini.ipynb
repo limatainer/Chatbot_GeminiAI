{
  "nbformat": 4,
  "nbformat_minor": 0,
  "metadata": {
    "colab": {
      "provenance": [],
      "authorship_tag": "ABX9TyMe0NmODVuixK52TliEBalz",
      "include_colab_link": true
    },
    "kernelspec": {
      "name": "python3",
      "display_name": "Python 3"
    },
    "language_info": {
      "name": "python"
    }
  },
  "cells": [
    {
      "cell_type": "markdown",
      "metadata": {
        "id": "view-in-github",
        "colab_type": "text"
      },
      "source": [
        "<a href=\"https://colab.research.google.com/github/limatainer/Chatbot_GeminiAI/blob/main/Chatbot_Gemini.ipynb\" target=\"_parent\"><img src=\"https://colab.research.google.com/assets/colab-badge.svg\" alt=\"Open In Colab\"/></a>"
      ]
    },
    {
      "cell_type": "markdown",
      "source": [
        "# **Seja Welcome a este chatbot**\n",
        "\n",
        "---\n",
        "\n",
        "🤿 Apresento o BotGaio, um especialista em < > ...\n",
        "Feito por Mariana Lima como resposta ao desafio da Imersão Alura com a Google usando o Gemini AI ⭐"
      ],
      "metadata": {
        "id": "mieRxYYPL2VG"
      }
    },
    {
      "cell_type": "code",
      "execution_count": 2,
      "metadata": {
        "id": "cJ5osv-sAXb3"
      },
      "outputs": [],
      "source": [
        "#Instalando o googleAI\n",
        "!pip install -q -U google-generativeai"
      ]
    },
    {
      "cell_type": "code",
      "source": [
        "#Configurações iniciais de chave da API Google\n",
        "import google.generativeai as genai\n",
        "from google.colab import userdata\n",
        "\n",
        "api_key = userdata.get('SECRET_KEY')\n",
        "\n",
        "genai.configure(api_key=api_key)"
      ],
      "metadata": {
        "id": "01OJED66BRnc"
      },
      "execution_count": 4,
      "outputs": []
    },
    {
      "cell_type": "code",
      "source": [
        "#Lista dos modelos\n",
        "for m in genai.list_models():\n",
        "  if 'generateContent' in m.supported_generation_methods:\n",
        "    print(m.name)"
      ],
      "metadata": {
        "colab": {
          "base_uri": "https://localhost:8080/",
          "height": 136
        },
        "id": "wa-DsVXSBRhg",
        "outputId": "bb4953fd-e363-4798-e9ab-fe09643570c7"
      },
      "execution_count": 5,
      "outputs": [
        {
          "output_type": "stream",
          "name": "stdout",
          "text": [
            "models/gemini-1.0-pro\n",
            "models/gemini-1.0-pro-001\n",
            "models/gemini-1.0-pro-latest\n",
            "models/gemini-1.0-pro-vision-latest\n",
            "models/gemini-1.5-pro-latest\n",
            "models/gemini-pro\n",
            "models/gemini-pro-vision\n"
          ]
        }
      ]
    },
    {
      "cell_type": "code",
      "source": [
        "#Ajustando os niveis que vou dar ao chat\n",
        "generation_config = {\n",
        "  \"candidate_count\": 1,\n",
        "  \"temperature\": 0.5,\n",
        "}"
      ],
      "metadata": {
        "id": "uTu-SLr7BRec"
      },
      "execution_count": 6,
      "outputs": []
    },
    {
      "cell_type": "markdown",
      "source": [
        "## Segurança em primeiro lugar!\n",
        "\n",
        "> Por ser um projeto publico de chat, optei por usar uma camada maior de '*safety*'\n",
        "\n"
      ],
      "metadata": {
        "id": "ATwYyp7nGF7z"
      }
    },
    {
      "cell_type": "code",
      "source": [
        "safety_settings={\n",
        "    'HATE': 'BLOCK_NONE',\n",
        "    'HARASSMENT': 'BLOCK_NONE',\n",
        "    'SEXUAL' : 'BLOCK_ONLY_HIGH',\n",
        "    'DANGEROUS' : 'BLOCK_ONLY_HIGH'\n",
        "    }"
      ],
      "metadata": {
        "id": "uhHJNIyABRYA"
      },
      "execution_count": 15,
      "outputs": []
    },
    {
      "cell_type": "code",
      "source": [
        "model = genai.GenerativeModel(model_name='gemini-1.0-pro',\n",
        "                                  generation_config=generation_config,\n",
        "                                  safety_settings=safety_settings,)"
      ],
      "metadata": {
        "id": "GIUyEo2HBRPA"
      },
      "execution_count": 16,
      "outputs": []
    },
    {
      "cell_type": "code",
      "source": [
        "response = model.generate_content(\"Que empresa criou o modelo de IA Gemini?\")\n",
        "response.text"
      ],
      "metadata": {
        "colab": {
          "base_uri": "https://localhost:8080/",
          "height": 35
        },
        "id": "vaMtlPv9Csfn",
        "outputId": "74c6dad0-a953-4e9c-d599-4848fdf275e5"
      },
      "execution_count": 10,
      "outputs": [
        {
          "output_type": "execute_result",
          "data": {
            "text/plain": [
              "'Google'"
            ],
            "application/vnd.google.colaboratory.intrinsic+json": {
              "type": "string"
            }
          },
          "metadata": {},
          "execution_count": 10
        }
      ]
    },
    {
      "cell_type": "markdown",
      "source": [
        "# Vamos bater um papo 🗣\n",
        "Aqui nosso bot ganha vida e esta a sua espera para conversar.\n",
        "\n",
        "`Rode o Play ▶ e Escreva algo ⬇`"
      ],
      "metadata": {
        "id": "z5ODS9MaNc7U"
      }
    },
    {
      "cell_type": "code",
      "source": [
        "chat = model.start_chat(history=[])\n",
        "\n",
        "prompt = input('Esperando prompt: ')\n",
        "\n",
        "while prompt != \"fim\":\n",
        "  response = chat.send_message(prompt)\n",
        "  print(\"Resposta:\", response.text, '\\n\\n')\n",
        "  prompt = input('Esperando prompt: ')"
      ],
      "metadata": {
        "id": "VDWuqVxlCsdJ"
      },
      "execution_count": null,
      "outputs": []
    },
    {
      "cell_type": "code",
      "source": [
        "chat\n",
        "chat.history"
      ],
      "metadata": {
        "id": "ywvPP8smCsaX"
      },
      "execution_count": null,
      "outputs": []
    },
    {
      "cell_type": "code",
      "source": [
        "import textwrap\n",
        "from IPython.display import display\n",
        "from IPython.display import Markdown\n",
        "\n",
        "def to_markdown(text):\n",
        "  text = text.replace('•', '  *')\n",
        "  return Markdown(textwrap.indent(text, '> ', predicate=lambda _: True))\n",
        "\n",
        "#Imprimindo o histórico\n",
        "for message in chat.history:\n",
        "  display(to_markdown(f'**{message.role}**: {message.parts[0].text}'))\n",
        "  print('-------------------------------------------')"
      ],
      "metadata": {
        "colab": {
          "base_uri": "https://localhost:8080/",
          "height": 306
        },
        "id": "LfB5Fas-CsYN",
        "outputId": "c0735748-fb3a-4f5f-e419-3c69a532e5d4"
      },
      "execution_count": 14,
      "outputs": [
        {
          "output_type": "display_data",
          "data": {
            "text/plain": [
              "<IPython.core.display.Markdown object>"
            ],
            "text/markdown": "> **user**: o que é um violão?"
          },
          "metadata": {}
        },
        {
          "output_type": "stream",
          "name": "stdout",
          "text": [
            "-------------------------------------------\n"
          ]
        },
        {
          "output_type": "display_data",
          "data": {
            "text/plain": [
              "<IPython.core.display.Markdown object>"
            ],
            "text/markdown": "> **model**: Um violão é um instrumento musical de cordas dedilhadas com as seguintes características:\n> \n> * **Caixa de ressonância:** Uma caixa oca feita de madeira, que amplifica o som das cordas.\n> * **Braço:** Uma peça longa e estreita de madeira que se estende da caixa de ressonância.\n> * **Escala:** Uma superfície plana no braço onde as cordas são pressionadas para alterar o tom.\n> * **Trastes:** Pequenos pedaços de metal ou plástico embutidos na escala, que marcam as posições das notas.\n> * **Cabeça:** A extremidade do braço onde as cordas são presas.\n> * **Cravelhas:** Pinos que são girados para ajustar a tensão das cordas.\n> * **Cordas:** Normalmente seis cordas de nylon ou aço, afinadas em intervalos específicos.\n> \n> Os violões são usados em uma ampla variedade de estilos musicais, incluindo música clássica, folk, rock, pop e jazz. Eles podem ser tocados com os dedos ou com uma palheta."
          },
          "metadata": {}
        },
        {
          "output_type": "stream",
          "name": "stdout",
          "text": [
            "-------------------------------------------\n"
          ]
        }
      ]
    }
  ]
}