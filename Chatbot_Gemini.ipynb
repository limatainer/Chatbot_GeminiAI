{
  "nbformat": 4,
  "nbformat_minor": 0,
  "metadata": {
    "colab": {
      "provenance": [],
      "authorship_tag": "ABX9TyO4RqwAv7ihiSHQME6tOp45",
      "include_colab_link": true
    },
    "kernelspec": {
      "name": "python3",
      "display_name": "Python 3"
    },
    "language_info": {
      "name": "python"
    }
  },
  "cells": [
    {
      "cell_type": "markdown",
      "metadata": {
        "id": "view-in-github",
        "colab_type": "text"
      },
      "source": [
        "<a href=\"https://colab.research.google.com/github/limatainer/Chatbot_GeminiAI/blob/main/Chatbot_Gemini.ipynb\" target=\"_parent\"><img src=\"https://colab.research.google.com/assets/colab-badge.svg\" alt=\"Open In Colab\"/></a>"
      ]
    },
    {
      "cell_type": "markdown",
      "source": [
        "# **Seja Welcome a este chatbot**\n",
        "\n",
        "---\n",
        "\n",
        "🤿 Apresento o BotGaio, um especialista em < > ...\n",
        "Feito por Mariana Lima como resposta ao desafio da Imersão Alura com a Google usando o Gemini AI ⭐"
      ],
      "metadata": {
        "id": "mieRxYYPL2VG"
      }
    },
    {
      "cell_type": "code",
      "execution_count": 24,
      "metadata": {
        "id": "cJ5osv-sAXb3"
      },
      "outputs": [],
      "source": [
        "#Instalando o googleAI\n",
        "!pip install -q -U google-generativeai"
      ]
    },
    {
      "cell_type": "code",
      "source": [
        "#Configurações iniciais de chave da API Google\n",
        "import google.generativeai as genai\n",
        "from google.colab import userdata\n",
        "\n",
        "api_key = userdata.get('SECRET_KEY')\n",
        "\n",
        "genai.configure(api_key=api_key)"
      ],
      "metadata": {
        "id": "01OJED66BRnc"
      },
      "execution_count": 25,
      "outputs": []
    },
    {
      "cell_type": "code",
      "source": [
        "#Lista dos modelos\n",
        "for m in genai.list_models():\n",
        "  if 'generateContent' in m.supported_generation_methods:\n",
        "    print(m.name)"
      ],
      "metadata": {
        "colab": {
          "base_uri": "https://localhost:8080/",
          "height": 136
        },
        "id": "wa-DsVXSBRhg",
        "outputId": "11853916-3b2b-4c0b-8bf1-6660f481b392"
      },
      "execution_count": 26,
      "outputs": [
        {
          "output_type": "stream",
          "name": "stdout",
          "text": [
            "models/gemini-1.0-pro\n",
            "models/gemini-1.0-pro-001\n",
            "models/gemini-1.0-pro-latest\n",
            "models/gemini-1.0-pro-vision-latest\n",
            "models/gemini-1.5-pro-latest\n",
            "models/gemini-pro\n",
            "models/gemini-pro-vision\n"
          ]
        }
      ]
    },
    {
      "cell_type": "code",
      "source": [
        "#Ajustando os niveis que vou dar ao chat\n",
        "generation_config = {\n",
        "  \"candidate_count\": 1,\n",
        "  \"temperature\": 0.5,\n",
        "}"
      ],
      "metadata": {
        "id": "uTu-SLr7BRec"
      },
      "execution_count": 27,
      "outputs": []
    },
    {
      "cell_type": "code",
      "source": [
        "safety_settings = {\n",
        "    'HATE': 'BLOCK_NONE',\n",
        "    'HARASSMENT': 'BLOCK_NONE',\n",
        "    'SEXUAL': 'BLOCK_NONE',\n",
        "    'DANGEROUS': 'BLOCK_NONE'\n",
        "}"
      ],
      "metadata": {
        "id": "uhHJNIyABRYA"
      },
      "execution_count": 28,
      "outputs": []
    },
    {
      "cell_type": "code",
      "source": [
        "model = genai.GenerativeModel(model_name='gemini-1.0-pro',\n",
        "                                  generation_config=generation_config,\n",
        "                                  safety_settings=safety_settings,)"
      ],
      "metadata": {
        "id": "GIUyEo2HBRPA"
      },
      "execution_count": 29,
      "outputs": []
    },
    {
      "cell_type": "code",
      "source": [
        "response = model.generate_content(\"Que empresa criou o modelo de IA Gemini?\")\n",
        "response.text"
      ],
      "metadata": {
        "colab": {
          "base_uri": "https://localhost:8080/",
          "height": 35
        },
        "id": "vaMtlPv9Csfn",
        "outputId": "84f525ba-9c8d-4bb3-b408-24cef116ab07"
      },
      "execution_count": 30,
      "outputs": [
        {
          "output_type": "execute_result",
          "data": {
            "text/plain": [
              "'Google'"
            ],
            "application/vnd.google.colaboratory.intrinsic+json": {
              "type": "string"
            }
          },
          "metadata": {},
          "execution_count": 30
        }
      ]
    },
    {
      "cell_type": "markdown",
      "source": [
        "# Vamos bater um papo 🗣\n",
        "Aqui nosso bot ganha vida e esta a sua espera para conversar.\n",
        "Escreva algo no *input* e quando quiser parar é só escrever *fim*\n",
        "\n",
        "`Rode o Play ▶ e Escreva algo ⬇`"
      ],
      "metadata": {
        "id": "z5ODS9MaNc7U"
      }
    },
    {
      "cell_type": "code",
      "source": [
        "chat = model.start_chat(history=[])\n",
        "\n",
        "prompt = input('Descreva sua necessidade: ')\n",
        "while prompt != \"fim\":\n",
        "  response = chat.send_message(prompt)\n",
        "  print(\"Resposta:\", response.text, '\\n\\n')\n",
        "  prompt = input('Faça a sua pergunta: ')"
      ],
      "metadata": {
        "id": "VDWuqVxlCsdJ"
      },
      "execution_count": null,
      "outputs": []
    },
    {
      "cell_type": "code",
      "source": [
        "import textwrap\n",
        "from IPython.display import display\n",
        "from IPython.display import Markdown\n",
        "\n",
        "def to_markdown(text):\n",
        "  text = text.replace('•', '  *')\n",
        "  return Markdown(textwrap.indent(text, '> ', predicate=lambda _: True))\n",
        "\n",
        "#Imprimindo o histórico\n",
        "for message in chat.history:\n",
        "  display(to_markdown(f'**{message.role}**: {message.parts[0].text}'))\n",
        "  print('-------------------------------------------')"
      ],
      "metadata": {
        "colab": {
          "base_uri": "https://localhost:8080/",
          "height": 984
        },
        "id": "LfB5Fas-CsYN",
        "outputId": "0c3200f4-d531-4c13-dd97-2485e25afeec"
      },
      "execution_count": 34,
      "outputs": [
        {
          "output_type": "display_data",
          "data": {
            "text/plain": [
              "<IPython.core.display.Markdown object>"
            ],
            "text/markdown": "> **user**: lista de compras"
          },
          "metadata": {}
        },
        {
          "output_type": "stream",
          "name": "stdout",
          "text": [
            "-------------------------------------------\n"
          ]
        },
        {
          "output_type": "display_data",
          "data": {
            "text/plain": [
              "<IPython.core.display.Markdown object>"
            ],
            "text/markdown": "> **model**: **Frutas y verduras:**\n> \n> * Manzanas\n> * Plátanos\n> * Naranjas\n> * Uvas\n> * Brócoli\n> * Coliflor\n> * Zanahorias\n> * Apio\n> * Tomates\n> * Cebollas\n> \n> **Proteínas:**\n> \n> * Pollo\n> * Pescado\n> * Carne magra\n> * Huevos\n> * Tofu\n> * Frijoles\n> \n> **Lácteos:**\n> \n> * Leche\n> * Yogur\n> * Queso\n> * Queso cottage\n> \n> **Cereales:**\n> \n> * Arroz integral\n> * Quinoa\n> * Pasta integral\n> * Pan integral\n> \n> **Legumbres:**\n> \n> * Lentejas\n> * Garbanzos\n> * Alubias\n> \n> **Nueces y semillas:**\n> \n> * Almendras\n> * Nueces\n> * Semillas de girasol\n> * Semillas de chía\n> \n> **Otros:**\n> \n> * Aceite de oliva\n> * Vinagre\n> * Especias\n> * Hierbas\n> * Caldo\n> * Pan\n> * Leche de soja\n> * Leche de almendras"
          },
          "metadata": {}
        },
        {
          "output_type": "stream",
          "name": "stdout",
          "text": [
            "-------------------------------------------\n"
          ]
        }
      ]
    },
    {
      "cell_type": "markdown",
      "source": [
        "## Reveja seu historico de conversa ✏"
      ],
      "metadata": {
        "id": "gNJpM7zbRh-a"
      }
    },
    {
      "cell_type": "code",
      "source": [
        "chat\n",
        "chat.history"
      ],
      "metadata": {
        "id": "ywvPP8smCsaX"
      },
      "execution_count": null,
      "outputs": []
    }
  ]
}